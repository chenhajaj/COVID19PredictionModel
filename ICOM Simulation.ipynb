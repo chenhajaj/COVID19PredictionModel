{
 "cells": [
  {
   "cell_type": "markdown",
   "metadata": {},
   "source": [
    "# ICoM Simulation notebook"
   ]
  },
  {
   "cell_type": "markdown",
   "metadata": {},
   "source": [
    "For this running the simulation please make sure you have:\n",
    "\n",
    "1)list of csv with countries\n",
    "2)csv contating geographic data\n",
    "\n",
    "In this notebook we will simulate the ICoM Movment by predicting the growth in each country and cacluate the predicted cases in each country.\n"
   ]
  },
  {
   "cell_type": "code",
   "execution_count": null,
   "metadata": {},
   "outputs": [],
   "source": [
    "import pandas as pd\n",
    "import numpy as np\n",
    "import matplotlib.pyplot as plt\n",
    "from openpyxl import load_workbook\n",
    "from sklearn.model_selection import train_test_split\n",
    "pd.options.mode.chained_assignment = None\n",
    "\n",
    "#model for testings\n",
    "from sklearn.ensemble import RandomForestRegressor\n",
    "from sklearn.linear_model import LinearRegression\n",
    "from sklearn.linear_model import Ridge\n",
    "from sklearn.linear_model import Lasso\n",
    "from sklearn.svm import SVR\n",
    "\n",
    "import os\n",
    "if not os.path.exists('Output'):\n",
    "    os.makedirs('Output')"
   ]
  },
  {
   "cell_type": "code",
   "execution_count": null,
   "metadata": {},
   "outputs": [],
   "source": [
    "def train(df):\n",
    "    x=df.iloc[10:32,17:-1]\n",
    "    y=df.iloc[10:32,-1]\n",
    "    x_train, x_test, y_train, y_test = train_test_split(x, y, test_size=0.1)\n",
    "\n",
    "    regressor = RandomForestRegressor()\n",
    "    \n",
    "    #fit the model\n",
    "    regressor.fit(x_train, y_train)\n",
    "    # summarize feature importance\n",
    "    feature_importances = pd.DataFrame(regressor.feature_importances_, index = x_train.columns,\n",
    "                                    columns=['importance']).sort_values('importance',ascending=False)\n",
    "    feature_importances.reset_index(inplace=True)\n",
    "    return regressor,feature_importances"
   ]
  },
  {
   "cell_type": "code",
   "execution_count": null,
   "metadata": {},
   "outputs": [],
   "source": [
    "# Visualising the results for the regressor, flag is used to save the plot if true\n",
    "def vizualize_prediction(regressor,y, predictions, flag):\n",
    "    df = pd.DataFrame({'Actual_rf': y, 'Predicted_rf': predictions})\n",
    "    df.plot(kind='bar',figsize=(10,10))\n",
    "    plt.grid(which='major', linestyle='-', linewidth='0.5', color='green')\n",
    "    plt.grid(which='minor', linestyle=':', linewidth='0.5', color='black')\n",
    "    plt.title(\"Random forest\",fontsize=16)\n",
    "    plt.xlabel('Date ',fontsize=16)\n",
    "    plt.ylabel('Growth',fontsize=16)\n",
    "    if flag:\n",
    "        # extract the name of the regressor\n",
    "        regressor = str(regressor.__class__.__name__)\n",
    "        plt.savefig('Output/'+regressor+'_predictions.png')\n",
    "    else:\n",
    "        plt.show()"
   ]
  },
  {
   "cell_type": "code",
   "execution_count": null,
   "metadata": {},
   "outputs": [],
   "source": [
    "#prediction function on t+1 of weekly growth in each country\n",
    "def predict(df,i,regressor):\n",
    "    x=df.iloc[:33+i,17:-1]\n",
    "    y=df.iloc[:33+i,-1]\n",
    "    predictions=regressor.predict(x)\n",
    "    return predictions"
   ]
  },
  {
   "cell_type": "code",
   "execution_count": null,
   "metadata": {},
   "outputs": [],
   "source": [
    "#create distance from the center based on the ICoM that was created\n",
    "def distFromCenter(centers, gdict, countrys):\n",
    "    weekly_dist = {}\n",
    "    for index in centers.index:\n",
    "        center = np.array(centers['lat'][index], centers['long'][index])\n",
    "        for key in gdict:\n",
    "            point = np.array(gdict[key])\n",
    "            distance = np.linalg.norm(center - point)\n",
    "            if key in countrys:\n",
    "                if key not in weekly_dist.keys():\n",
    "                    weekly_dist[key] = [distance]\n",
    "                else:\n",
    "                    weekly_dist[key].append(distance)\n",
    "    return weekly_dist"
   ]
  },
  {
   "cell_type": "code",
   "execution_count": null,
   "metadata": {},
   "outputs": [],
   "source": [
    "#create ICom based on the caculated confirmed cases based on the prediction of the weekly growth\n",
    "def ICoM(gdict, tseries, c_r, countrys):\n",
    "    icom = []\n",
    "    numerator = []\n",
    "    denominator = []\n",
    "    for country in countrys:\n",
    "        coordinates = np.array([gdict[country][0], gdict[country][1]])\n",
    "        numerator.append(c_r[country] * coordinates)\n",
    "        denominator.append(c_r[country])\n",
    "    numerator = np.sum(np.array(numerator), axis=0)\n",
    "    denominator = sum(denominator)\n",
    "    if denominator == 0:\n",
    "        icom.append(np.array([0, 0]))\n",
    "    else:\n",
    "        icom.append(numerator * (1/denominator))\n",
    "    icom = np.array(icom)\n",
    "    icom = pd.DataFrame({'date': tseries, 'lat': icom[:, 0], 'long': icom[:, 1]})\n",
    "    dist=distFromCenter(icom,gdict,countrys)\n",
    "    return icom , dist"
   ]
  },
  {
   "cell_type": "code",
   "execution_count": null,
   "metadata": {},
   "outputs": [],
   "source": [
    "#read geographic data\n",
    "geo=pd.read_csv(\"Data/geo.csv\")\n",
    "geo.rename(columns = {\"Unnamed: 0\":\"country\",\"0\":\"lat\",\"1\":\"long\"},inplace=True)\n",
    "geo=geo.set_index('country').T.to_dict('list')"
   ]
  },
  {
   "cell_type": "code",
   "execution_count": null,
   "metadata": {},
   "outputs": [],
   "source": [
    "#create a diconery of dataframes where key is the country name\n",
    "country_dict={}\n",
    "predictions={}\n",
    "country_list=['Germany', 'Italy', 'Spain', 'Belgium', 'Switzerland',\n",
    "            'Austria','France','Finland', 'Greece', 'Netherlands']\n",
    "for country in country_list:\n",
    "    df=pd.read_csv(\"Data/\"+country+\".csv\")\n",
    "    if country not in country_dict.keys():\n",
    "        country_dict[country]=df\n",
    "        country_dict[country]=country_dict[country].fillna(0)"
   ]
  },
  {
   "cell_type": "code",
   "execution_count": null,
   "metadata": {},
   "outputs": [],
   "source": [
    "#create a dictionary of trained models and extrect feature imporance for each model\n",
    "feature_importance={}\n",
    "models = {}\n",
    "importance_df = pd.DataFrame()\n",
    "for country in country_list:\n",
    "    regressor,feature_importances=train(country_dict[country])\n",
    "    feature_importance[country]=feature_importances\n",
    "    importance_df[country]=feature_importances['index']\n",
    "    # add the regressor to the country_dict dictionary\n",
    "    models[country] = regressor\n",
    "    \n",
    "importance_df.to_csv(\"Output/feature importance.csv\") "
   ]
  },
  {
   "cell_type": "code",
   "execution_count": null,
   "metadata": {},
   "outputs": [],
   "source": [
    "#create a copy of the original\n",
    "original_data={}\n",
    "for country in country_list:\n",
    "    if country not in original_data.keys():\n",
    "        original_data[country]=country_dict[country].copy()"
   ]
  },
  {
   "cell_type": "code",
   "execution_count": null,
   "metadata": {},
   "outputs": [],
   "source": [
    "\"\"\"\n",
    "Create prediction for the Weekly Growth based on a trained model \n",
    "Caculate the Weekly Confiremd Cases based on the predicted Growth for t+1\n",
    "Caculate New ICoM Based on the predicted Confirmed Cases\n",
    "Caculate distance from Center of ICoM for each country\n",
    "\"\"\"\n",
    "df_icom=pd.DataFrame(columns=['date','lat','long'])\n",
    "\n",
    "horizon=6\n",
    "time=32\n",
    "pred = time\n",
    "for i in range(horizon):\n",
    "    predictions={}\n",
    "    last_val={}\n",
    "    for country in country_list:\n",
    "        if country not in predictions.keys():\n",
    "            predictions[country]=predict(country_dict[country],i,models[country])\n",
    "        country_dict[country][\"WeeklyGrowth\"][time+i]=predictions[country][pred+i]\n",
    "        country_dict[country][\"WeeklyConfirmed\"][time+i]=country_dict[country][\"WeeklyGrowth\"][time+i]*country_dict[country][\"WeeklyConfirmed\"][time-1+i]\n",
    "        if country not in last_val.keys():\n",
    "            last_val[country]= country_dict[country][\"WeeklyConfirmed\"][time+i]\n",
    "    \n",
    "    icom ,dist =ICoM(geo,i,last_val,country_list)\n",
    "    # add the new ICoM to the df_icom dataframe\n",
    "    df_icom = pd.concat([df_icom, icom], ignore_index=True)\n",
    "    \n",
    "    for country in country_list:\n",
    "        country_dict[country][\"Weeklydistance\"][time+i]=dist[country][0] \n",
    "\n",
    "df_icom=df_icom.set_index('date')\n",
    "df_icom.to_csv(\"Output/ICoM.csv\")"
   ]
  },
  {
   "cell_type": "code",
   "execution_count": null,
   "metadata": {},
   "outputs": [],
   "source": [
    "columns = ['country','date', 'WeeklyConfirmed', 'WeeklyConfirmed_pred', 'WeeklyGrowth', 'WeeklyGrowth_pred', 'Weeklydistance', 'Weeklydistance_pred']\n",
    "results = pd.DataFrame(columns=columns)\n",
    "for country in country_list:\n",
    "    country_df = pd.DataFrame(columns=columns)\n",
    "    country_df['date'] = country_dict[country]['date']\n",
    "    country_df['WeeklyConfirmed'] = original_data[country]['WeeklyConfirmed']\n",
    "    country_df['WeeklyConfirmed_pred'] = country_dict[country]['WeeklyConfirmed']\n",
    "    country_df['WeeklyGrowth'] = original_data[country]['WeeklyGrowth']\n",
    "    country_df['WeeklyGrowth_pred'] = country_dict[country]['WeeklyGrowth']\n",
    "    country_df['Weeklydistance'] = original_data[country]['Weeklydistance']\n",
    "    country_df['Weeklydistance_pred'] = country_dict[country]['Weeklydistance']\n",
    "    country_df['country'] = str(country)\n",
    "    results = pd.concat([results, country_df],ignore_index=True)\n",
    "results.to_csv(\"Output/results.csv\")"
   ]
  }
 ],
 "metadata": {
  "kernelspec": {
   "display_name": "Python 3",
   "language": "python",
   "name": "python3"
  },
  "language_info": {
   "codemirror_mode": {
    "name": "ipython",
    "version": 3
   },
   "file_extension": ".py",
   "mimetype": "text/x-python",
   "name": "python",
   "nbconvert_exporter": "python",
   "pygments_lexer": "ipython3",
   "version": "3.11.5"
  }
 },
 "nbformat": 4,
 "nbformat_minor": 4
}
